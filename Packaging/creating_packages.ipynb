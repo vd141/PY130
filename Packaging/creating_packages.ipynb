{
 "cells": [
  {
   "cell_type": "code",
   "execution_count": null,
   "id": "ffd302ce",
   "metadata": {
    "vscode": {
     "languageId": "plaintext"
    }
   },
   "outputs": [],
   "source": [
    "Quick setup guide for creating packages and disseminating them on TestPyPI. Use PyPI when you actually want to submit a package.\n",
    "These instructions can be run while you are in a Python virtual environment or in the global environment"
   ]
  },
  {
   "cell_type": "code",
   "execution_count": null,
   "id": "1bf3f941",
   "metadata": {
    "vscode": {
     "languageId": "plaintext"
    }
   },
   "outputs": [],
   "source": [
    "# first, install the relevant pip packages for package building\n",
    "pip install setuptools wheel build twine"
   ]
  },
  {
   "cell_type": "markdown",
   "id": "d77489ab",
   "metadata": {},
   "source": [
    "Login to PyPI or TestPyPI"
   ]
  },
  {
   "cell_type": "markdown",
   "id": "ccf4c67f",
   "metadata": {},
   "source": [
    "Create a new folder structure for your package that looks like this:\n",
    "\n",
    "todolist_package/\n",
    "    src/\n",
    "        todolist_YOUR_USERNAME/\n",
    "            __init__.py\n",
    "            todo.py\n",
    "            todolist.py\n",
    "    tests/\n",
    "    LICENSE\n",
    "    pyproject.toml\n",
    "    README.md\n",
    "\n",
    "- src/ contains your source code. \n",
    "- todolist_YOUR_USERNAME/ is the name of your package\n",
    "- __init__.py tells python that the enclosing directory contains a package (it should usually be empty)\n",
    "    - this matters when a developer is installing the package\n",
    "- tests/ contains any test files\n",
    "- pyproject.toml contains build system requirements and package metadata for PyPI"
   ]
  },
  {
   "cell_type": "markdown",
   "id": "3c3c129a",
   "metadata": {},
   "source": [
    "setting up pyproject.toml\n",
    "\n",
    "Official documentation here: https://packaging.python.org/en/latest/guides/writing-pyproject-toml/#writing-pyproject-toml\n",
    "\n",
    "this provides system build requirements and package metadata for PyPI\n",
    "\n",
    "First, we define the build backend, which builds the package before uploading.\n",
    "There are many ways to build the build backend, but for our simple package, we'll use\n",
    "and configure setuptools"
   ]
  },
  {
   "cell_type": "code",
   "execution_count": null,
   "id": "4593b84c",
   "metadata": {
    "vscode": {
     "languageId": "plaintext"
    }
   },
   "outputs": [],
   "source": [
    "[build-system]\n",
    "requires = [\"setuptools\"]\n",
    "build-backend = \"setuptools.build_meta\""
   ]
  },
  {
   "cell_type": "markdown",
   "id": "dd6d3bbd",
   "metadata": {},
   "source": [
    "Next, we add package metadata in the project section. \n",
    "\n",
    "- name is the name of the project.\n",
    "- version is the version number for the project.\n",
    "- authors is an array of dictionaries that specifies the names and email addresses of the program's authors. Go ahead and fill out your own name and email address.\n",
    "- description is a description of your package. It should usually be contain a single short sentence.\n",
    "- readme provides the name of your package's README file.\n",
    "- requires-python describes which versions of Python your package should work with. In this case, we're specifying version 3.8 and above.\n",
    "- classifiers is a list of PyPI classifiers designed to help PyPI users find projects suitable to their needs. In the above example, we're stating that the package is suitable for use with Python 3, that it has an MIT license, and that the package is not dependent on any particular operating system."
   ]
  },
  {
   "cell_type": "code",
   "execution_count": null,
   "id": "a66032ba",
   "metadata": {
    "vscode": {
     "languageId": "plaintext"
    }
   },
   "outputs": [],
   "source": [
    "[project]\n",
    "name = \"todolist_YOUR_USERNAME\"\n",
    "version = \"0.1.0\"\n",
    "authors = [\n",
    "    {name = \"Your Name\", email = \"you@example.com\"},\n",
    "]\n",
    "description = \"A fantastic todo list application.\"\n",
    "readme = \"README.md\"\n",
    "requires-python = \">=3.8\"\n",
    "classifiers = [\n",
    "    \"Programming Language :: Python :: 3\",\n",
    "    \"License :: OSI Approved :: MIT License\",\n",
    "    \"Operating System :: OS Independent\",\n",
    "    # More classifiers can be found at\n",
    "]\n",
    "dependencies = []"
   ]
  },
  {
   "cell_type": "markdown",
   "id": "eb8ca6e7",
   "metadata": {},
   "source": [
    "- dependencies is a list of the packages that your package depends on. For instance, if your package relies on flask and numpy, you need to specify those dependencies here:"
   ]
  },
  {
   "cell_type": "code",
   "execution_count": null,
   "id": "0defd344",
   "metadata": {
    "vscode": {
     "languageId": "plaintext"
    }
   },
   "outputs": [],
   "source": [
    "dependencies = [\n",
    "    \"flask\",\n",
    "    \"numpy\"\n",
    "]"
   ]
  },
  {
   "cell_type": "markdown",
   "id": "bdc87f3b",
   "metadata": {},
   "source": [
    "The [project.urls] section defines the URLs for your project (typically, your GitHub repo) and the page where issues can be viewed and created (also typically on GitHub):"
   ]
  },
  {
   "cell_type": "code",
   "execution_count": null,
   "id": "cc746dd2",
   "metadata": {
    "vscode": {
     "languageId": "plaintext"
    }
   },
   "outputs": [],
   "source": [
    "# code omitted for brevity\n",
    "\n",
    "[project.urls]\n",
    "Homepage = \"https://github.com/USERNAME/todolist\"\n",
    "Issues = \"https://github.com/USERNAME/todolist/issues\""
   ]
  },
  {
   "cell_type": "markdown",
   "id": "067c65ed",
   "metadata": {},
   "source": [
    "The README.md file will be displayed on the package's page on PyPI. You can enter any information you want about the package using GitHub-Flavored Markdown.\n",
    "\n",
    "The LICENSE file is that license you wish to associate with your package. Users of the package are expected to adhere to the requirements of the license. In our case, we're using the short, simple, and permissive MIT license which can be found here (https://choosealicense.com/licenses/mit/). You can copy and paste the license from that page directly into your LICENSE file."
   ]
  },
  {
   "cell_type": "markdown",
   "id": "1bf1551a",
   "metadata": {},
   "source": [
    "Creating the distribution archive. Packages on PyPI are contained inside distribution archives that can be installed by Pip. Run the following command to create the archive for your package:"
   ]
  },
  {
   "cell_type": "code",
   "execution_count": null,
   "id": "8d862474",
   "metadata": {
    "vscode": {
     "languageId": "plaintext"
    }
   },
   "outputs": [],
   "source": [
    "# Upgrade the build package to the latest version\n",
    "$ pip install --upgrade build\n",
    "\n",
    "# Build the distribution archive\n",
    "$ python -m build"
   ]
  },
  {
   "cell_type": "markdown",
   "id": "d5b8eb33",
   "metadata": {},
   "source": [
    "The python -m build command will display a lot of text. Once it finishes running, you should find two files in the todolist_package/dist directory:\n",
    "\n",
    "todolist_YOUR_USERNAME-0.1.0.tar.gz\n",
    "todolist_YOUR_USERNAME-0.1.0-py3-none-any.whl\n",
    "\n",
    "The first file is a source distribution for your package that can be used by pip to build your package on other computers. However, pip prefers the second file (called a \"wheel\") which contains the fully built package. As a rule, you should always upload both to PyPI."
   ]
  },
  {
   "cell_type": "markdown",
   "id": "f649d6fb",
   "metadata": {},
   "source": [
    "Publishing to TestPyPI\n",
    "\n",
    "You're now ready to upload your package to TestPyPI. Make sure you have registered an account on TestPyPI, and that you have verified your email address.\n",
    "\n",
    "You will also need to create a TestPyPI token. Be sure to set the \"Scope\" to \"Entire account\". Don't close the page until you have copied and saved the token; you won't see that token again.\n",
    "\n",
    "Finally, it's time to upload your package. You'll use the twine package we installed earlier to do this:"
   ]
  },
  {
   "cell_type": "code",
   "execution_count": null,
   "id": "9de501c6",
   "metadata": {
    "vscode": {
     "languageId": "plaintext"
    }
   },
   "outputs": [],
   "source": [
    "# Upgrade the twine package to the latest version\n",
    "$ pip install --upgrade twine\n",
    "\n",
    "# Upload the distribution archive\n",
    "$ twine upload --repository testpypi dist/*"
   ]
  },
  {
   "cell_type": "markdown",
   "id": "586efd10",
   "metadata": {},
   "source": [
    "When prompted for your username, enter __token__. For the password, enter the TestPyPI API token you created above.\n",
    "\n",
    "Once the above command finishes, you should be able to view your package on TestPyPI at https://test.pypi.org/project/todolist_package_YOUR_USERNAME."
   ]
  },
  {
   "cell_type": "markdown",
   "id": "d97456af",
   "metadata": {},
   "source": [
    "Verifying Your Package Works\n",
    "\n",
    "It's a good idea to make sure your uploaded package works."
   ]
  },
  {
   "cell_type": "code",
   "execution_count": null,
   "id": "2e6ffd04",
   "metadata": {
    "vscode": {
     "languageId": "plaintext"
    }
   },
   "outputs": [],
   "source": [
    "python -m pip install --index-url https://test.pypi.org/simple/ \\\n",
    "    --no-deps todolist_YOUR_USERNAME"
   ]
  },
  {
   "cell_type": "markdown",
   "id": "31dd518b",
   "metadata": {},
   "source": [
    "The output should look something like this:\n",
    "\n",
    "Collecting todolist_YOUR_USERNAME\n",
    "  Downloading https://test-files.pythonhosted.org/packages/.../todolist_YOUR_USERNAME_0.0.1-py3-none-any.whl\n",
    "Installing collected packages: todolist_YOUR_USERNAME\n",
    "Successfully installed todolist_YOUR_USERNAME-0.0.1\n",
    "\n",
    "You can verify that you installed your the package correctly by running pip list: you should see todolist_YOUR_NAME in the list."
   ]
  },
  {
   "cell_type": "markdown",
   "id": "96b31a13",
   "metadata": {},
   "source": [
    "POETRY\n",
    "\n",
    "What is poetry and why use it? It creates a package scaffolding that you can fill in. It handles a lot of the previous steps, which\n",
    "we did manually.\n",
    "\n",
    "Installation:\n",
    "- poetry is installed at the global level, not in a virtual environment. To install it, \n",
    "  you can use pipx. Pipx must be downloaded through pip, though (through a virtual environment).\n",
    "- once pipx is installed, run the command to install poetry\n",
    "```\n",
    "    $ pipx install poetry\n",
    "```\n",
    "- now set up your PATH to ensure that the poetry directory is in there\n",
    "```\n",
    "    $ pipx ensurepath\n",
    "```\n",
    "- restart the terminal to ensure that the changes take effect (the PATH variable from\n",
    "  the previous step is shell dependent, so make sure you are using the appropriate shell)\n",
    "- verify that poetry is installed using \n",
    "```\n",
    "    $ poetry --version\n",
    "```\n",
    "\n",
    "Using Poetry:\n",
    "- one poetry is installed and verified, you can use it to initialize a project in\n",
    "  whichever directory the following command is run (use a project name that is\n",
    "  not already present on TestPyPI/PyPI - use search bar on TestPyPI/PyPI to verify)\n",
    "    $ poetry new my_proj\n",
    "- cd into this new project and initialize a git repo\n",
    "```\n",
    "    $ git init\n",
    "```\n",
    "- ls -lR the directory and you will see a scaffolding of your project\n",
    "- you can create your program file in the src directory\n",
    "- if you need to install packages from PyPI or elsewhere, use poetry, not pip\n",
    "```\n",
    "    $ poetry add flask\n",
    "    $ poetry add nump\n",
    "```\n",
    "- when you want to run your code, run it with poetry\n",
    "```\n",
    "    $ poetry run python my_proj/my_proj.py\n",
    "```\n",
    "    "
   ]
  },
  {
   "cell_type": "markdown",
   "id": "9a802618",
   "metadata": {},
   "source": [
    "Publishing your package with Poetry (TestPyPI)\n",
    "\n",
    "Before you can use Poetry to publish your package to TestPyPI, you must configure Poetry so it knows about TestPyPI\n",
    "```\n",
    "    $ poetry config repositories.test-pypi https://test.pypi.org/legacy/\n",
    "```\n",
    "enter the TestPyPI/PyPI authentication token with this command\n",
    "```\n",
    "    $ poetry config pypi-token.test-pypi YOUR-TOKEN\n",
    "```\n",
    "build and publish your package to Test PyPI\n",
    "```\n",
    "    $ poetry build\n",
    "    $ poetry publish -r test-pypi\n",
    "```\n",
    "\n",
    "If you're told that you're not allowed to upload the project, you've probably chosen a project name that already exists. To fix this:\n",
    "\n",
    "- Choose a new project name, and search Test PyPI to ensure it is unique.\n",
    "- Edit your pyproject.toml and change the name = \"my-proj\" line to a new project name. Save the file and return to the Terminal.\n",
    "- Rename the my_proj subdirectory to your new project name.\n",
    "- Run poetry build and poetry publish -r test-pypi again.\n",
    "That's it! Your project has now been published."
   ]
  },
  {
   "cell_type": "code",
   "execution_count": null,
   "id": "ce914aa2",
   "metadata": {
    "vscode": {
     "languageId": "plaintext"
    }
   },
   "outputs": [],
   "source": [
    "Publishing your package with Poetry (PyPI)\n",
    "\n",
    "- create an account on PyPI\n",
    "- obtain a token from PyPI\n",
    "- configure poetry to use the token\n",
    "```\n",
    "    $ poetry config pypi-token.pypi YOUR-token\n",
    "```\n",
    "- ensure project name is not already being used on PyPI\n",
    "- build and publish your project:\n",
    "```\n",
    "    $ poetry build\n",
    "    $ poetry publish\n",
    "```"
   ]
  }
 ],
 "metadata": {
  "language_info": {
   "name": "python"
  }
 },
 "nbformat": 4,
 "nbformat_minor": 5
}
