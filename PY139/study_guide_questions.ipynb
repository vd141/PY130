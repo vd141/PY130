{
 "cells": [
  {
   "cell_type": "markdown",
   "id": "d8722512",
   "metadata": {},
   "source": [
    "First-class and higher order functions\n",
    "- what 3 characteristics make a first class function?\n",
    "- what 2 characteristics make a higher order function\n",
    "- what makes a callback function a callback?\n",
    "- hwo to use map, filter, and reduce functions\n",
    "- are *args and **kwargs parameters allowed?\n",
    "- write a for_each() function that applies a callback function to an iterable's elements\n",
    "* Higher order function practice problems\n",
    "\n",
    "Generator expressions/functions\n",
    "- what does it mean when a generator object is single use\n",
    "- why use a generator object (2 reasons)?\n",
    "- how to grab elements from a generator function/expression (2 ways)?\n",
    "    - how do they both work?\n",
    "- how to determine length of a generator?\n",
    "- when must parentheses be used for a generator\n",
    "* generator practice problems\n",
    "\n",
    "Lambda functions\n",
    "- what types of statements/blocks are not allowed in lambda functions (4+)?\n",
    "- what types of parameters are not allowed?\n",
    "\n",
    "File handling\n",
    "- how do you open a file?\n",
    "- what three types of modes can be used when opening a file?\n",
    "- what are the three methods of reading from a file? how do they work?\n",
    "- what is a non-method way of reading from a file?\n",
    "- what are the optimal ways of reading from a file? why?\n",
    "- what must be done after we are finished reading from a file?\n",
    "    - what happens if this isn't done?\n",
    "- what is the difference between writing and appending to a file?\n",
    "- what are two methods to write/append to a file?\n",
    "- what is the optimal way of opening a file? what is this called?\n",
    "    - what are three use cases of this concept?\n",
    "- how to handle exceptions when working with files (such as file not existing)?\n",
    "\n",
    "Function arguments and parameters:\n",
    "* practice problems\n",
    "\n",
    "Iterable unpacking\n",
    "* iterable unpacking practice problems\n",
    "\n",
    "Closures\n",
    "- \n",
    "\n",
    "Partial function application\n",
    "- \n",
    "\n",
    "\n",
    "\n"
   ]
  }
 ],
 "metadata": {
  "language_info": {
   "name": "python"
  }
 },
 "nbformat": 4,
 "nbformat_minor": 5
}
